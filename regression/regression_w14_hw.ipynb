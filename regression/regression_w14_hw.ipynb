{
 "cells": [
  {
   "cell_type": "markdown",
   "metadata": {},
   "source": [
    "# Regression hw in week 14\n",
    "\n",
    "**info**\n",
    "\n",
    "SuJinhua 2017201620\n",
    "\n",
    "**Dataset & DIY function**"
   ]
  },
  {
   "cell_type": "code",
   "execution_count": 2,
   "metadata": {},
   "outputs": [
    {
     "name": "stdout",
     "output_type": "stream",
     "text": [
      "   num  x1  x2  x3   x4  y\n",
      "0    1  95  65   1  600  2\n",
      "1    2  63  62   0  850  1\n",
      "2    3  82  53   0  700  2\n",
      "3    4  60  88   0  850  3\n",
      "4    5  72  65   1  750  1\n"
     ]
    },
    {
     "data": {
      "text/html": [
       "<div>\n",
       "<style scoped>\n",
       "    .dataframe tbody tr th:only-of-type {\n",
       "        vertical-align: middle;\n",
       "    }\n",
       "\n",
       "    .dataframe tbody tr th {\n",
       "        vertical-align: top;\n",
       "    }\n",
       "\n",
       "    .dataframe thead th {\n",
       "        text-align: right;\n",
       "    }\n",
       "</style>\n",
       "<table border=\"1\" class=\"dataframe\">\n",
       "  <thead>\n",
       "    <tr style=\"text-align: right;\">\n",
       "      <th></th>\n",
       "      <th>num</th>\n",
       "      <th>x1</th>\n",
       "      <th>x2</th>\n",
       "      <th>x3</th>\n",
       "      <th>x4</th>\n",
       "      <th>y</th>\n",
       "    </tr>\n",
       "  </thead>\n",
       "  <tbody>\n",
       "    <tr>\n",
       "      <th>count</th>\n",
       "      <td>40.000000</td>\n",
       "      <td>40.000000</td>\n",
       "      <td>40.000000</td>\n",
       "      <td>40.000000</td>\n",
       "      <td>40.00000</td>\n",
       "      <td>40.000000</td>\n",
       "    </tr>\n",
       "    <tr>\n",
       "      <th>mean</th>\n",
       "      <td>20.500000</td>\n",
       "      <td>77.875000</td>\n",
       "      <td>77.675000</td>\n",
       "      <td>0.450000</td>\n",
       "      <td>823.75000</td>\n",
       "      <td>1.750000</td>\n",
       "    </tr>\n",
       "    <tr>\n",
       "      <th>std</th>\n",
       "      <td>11.690452</td>\n",
       "      <td>10.811171</td>\n",
       "      <td>12.081746</td>\n",
       "      <td>0.503831</td>\n",
       "      <td>206.30681</td>\n",
       "      <td>0.742484</td>\n",
       "    </tr>\n",
       "    <tr>\n",
       "      <th>min</th>\n",
       "      <td>1.000000</td>\n",
       "      <td>60.000000</td>\n",
       "      <td>53.000000</td>\n",
       "      <td>0.000000</td>\n",
       "      <td>500.00000</td>\n",
       "      <td>1.000000</td>\n",
       "    </tr>\n",
       "    <tr>\n",
       "      <th>25%</th>\n",
       "      <td>10.750000</td>\n",
       "      <td>71.750000</td>\n",
       "      <td>65.000000</td>\n",
       "      <td>0.000000</td>\n",
       "      <td>687.50000</td>\n",
       "      <td>1.000000</td>\n",
       "    </tr>\n",
       "    <tr>\n",
       "      <th>50%</th>\n",
       "      <td>20.500000</td>\n",
       "      <td>79.000000</td>\n",
       "      <td>77.000000</td>\n",
       "      <td>0.000000</td>\n",
       "      <td>800.00000</td>\n",
       "      <td>2.000000</td>\n",
       "    </tr>\n",
       "    <tr>\n",
       "      <th>75%</th>\n",
       "      <td>30.250000</td>\n",
       "      <td>86.000000</td>\n",
       "      <td>88.000000</td>\n",
       "      <td>1.000000</td>\n",
       "      <td>950.00000</td>\n",
       "      <td>2.000000</td>\n",
       "    </tr>\n",
       "    <tr>\n",
       "      <th>max</th>\n",
       "      <td>40.000000</td>\n",
       "      <td>96.000000</td>\n",
       "      <td>96.000000</td>\n",
       "      <td>1.000000</td>\n",
       "      <td>1500.00000</td>\n",
       "      <td>3.000000</td>\n",
       "    </tr>\n",
       "  </tbody>\n",
       "</table>\n",
       "</div>"
      ],
      "text/plain": [
       "             num         x1         x2         x3          x4          y\n",
       "count  40.000000  40.000000  40.000000  40.000000    40.00000  40.000000\n",
       "mean   20.500000  77.875000  77.675000   0.450000   823.75000   1.750000\n",
       "std    11.690452  10.811171  12.081746   0.503831   206.30681   0.742484\n",
       "min     1.000000  60.000000  53.000000   0.000000   500.00000   1.000000\n",
       "25%    10.750000  71.750000  65.000000   0.000000   687.50000   1.000000\n",
       "50%    20.500000  79.000000  77.000000   0.000000   800.00000   2.000000\n",
       "75%    30.250000  86.000000  88.000000   1.000000   950.00000   2.000000\n",
       "max    40.000000  96.000000  96.000000   1.000000  1500.00000   3.000000"
      ]
     },
     "execution_count": 2,
     "metadata": {},
     "output_type": "execute_result"
    }
   ],
   "source": [
    "import pandas as pd\n",
    "import numpy as np\n",
    "df = pd.read_excel('table10-13.xlsx')\n",
    "print(df.head())\n",
    "df.describe()"
   ]
  },
  {
   "cell_type": "code",
   "execution_count": 3,
   "metadata": {},
   "outputs": [],
   "source": [
    "def linear_regression(x,y):\n",
    "    x = np.hstack((np.ones((x.shape[0],1)),x))\n",
    "    beta = np.linalg.inv(x.T.dot(x)).dot(x.T.dot(y))\n",
    "    return beta\n",
    "def logit_regression(x,y,t=100,init_beta =False,beta = None,method = 'newton',lr = 0.001):\n",
    "    x = np.hstack((np.ones((x.shape[0],1)),x))\n",
    "    if init_beta == False:\n",
    "        beta = np.zeros((x.shape[1],1))\n",
    "    def p1(x,y,beta):\n",
    "        return 1/(1+np.exp(-1 * x.dot(beta)))\n",
    "    def derivate_1(x,y,beta):\n",
    "        return -1 * x.T.dot((y-p1(x,y,beta).T).T)\n",
    "    def derivate_2(x,y,beta):\n",
    "        tmp = p1(x,y,beta)\n",
    "        tmp = tmp*(1-tmp)\n",
    "        return x.T.dot(x*tmp)\n",
    "    if method == 'newton':\n",
    "        for i in range(t):\n",
    "            beta = beta - np.linalg.inv(derivate_2(x,y,beta)).dot(derivate_1(x,y,beta))\n",
    "    elif method == 'simple':\n",
    "        for i in range(t):\n",
    "            beta = beta - lr * derivate_1(x,y,beta)\n",
    "    return beta"
   ]
  },
  {
   "cell_type": "code",
   "execution_count": 6,
   "metadata": {},
   "outputs": [],
   "source": [
    "beta_l = []\n",
    "for i in range(3-1):\n",
    "    df['y=%s'%(i+2)] = (df['y'] == i+2).astype(int)\n",
    "    df_tmp = df[df['y'].apply(lambda x:True if x in [1,i+2] else False)]\n",
    "    X = df_tmp[['x'+str(i+1) for i in range(4)]].to_numpy()\n",
    "    y = df_tmp['y=%s'%(i+2)].to_numpy()\n",
    "    beta_l.append(logit_regression(X,y))"
   ]
  },
  {
   "cell_type": "code",
   "execution_count": 53,
   "metadata": {},
   "outputs": [],
   "source": [
    "Beta = np.hstack(beta_l)"
   ]
  },
  {
   "cell_type": "code",
   "execution_count": 34,
   "metadata": {},
   "outputs": [],
   "source": [
    "def p1(x,beta):\n",
    "    x = np.hstack([np.ones((len(x),1)),x])\n",
    "    return np.exp(x.dot(beta))\n",
    "p = p1(df[['x%s'%(i+1) for i in range(4)]].to_numpy(),Beta)\n",
    "p = np.hstack([np.ones((p.shape[0],1)),p])"
   ]
  },
  {
   "cell_type": "code",
   "execution_count": 35,
   "metadata": {},
   "outputs": [],
   "source": [
    "p = (p.T / p.sum(axis = 1)).T"
   ]
  },
  {
   "cell_type": "code",
   "execution_count": 60,
   "metadata": {},
   "outputs": [
    {
     "data": {
      "text/plain": [
       "array([2, 1, 1, 3, 1, 3, 3, 2, 1, 2, 2, 2, 2, 1, 1, 3, 1, 2, 3, 2, 2, 1,\n",
       "       2, 2, 2, 2, 1, 1, 1, 2, 1, 2, 1, 3, 1, 2, 1, 1, 3, 2])"
      ]
     },
     "execution_count": 60,
     "metadata": {},
     "output_type": "execute_result"
    }
   ],
   "source": [
    "my_pred =(np.argsort(p)+1)[:,2]\n",
    "my_pred"
   ]
  },
  {
   "cell_type": "code",
   "execution_count": 61,
   "metadata": {},
   "outputs": [
    {
     "data": {
      "text/plain": [
       "array([2, 1, 2, 3, 1, 3, 2, 2, 1, 1, 1, 2, 3, 2, 3, 2, 1, 2, 2, 3, 2, 1,\n",
       "       2, 1, 2, 1, 2, 1, 1, 1, 1, 2, 1, 3, 1, 2, 1, 1, 3, 2])"
      ]
     },
     "execution_count": 61,
     "metadata": {},
     "output_type": "execute_result"
    }
   ],
   "source": [
    "real = df['y'].to_numpy()\n",
    "real"
   ]
  },
  {
   "cell_type": "code",
   "execution_count": 68,
   "metadata": {},
   "outputs": [
    {
     "data": {
      "text/html": [
       "<div>\n",
       "<style scoped>\n",
       "    .dataframe tbody tr th:only-of-type {\n",
       "        vertical-align: middle;\n",
       "    }\n",
       "\n",
       "    .dataframe tbody tr th {\n",
       "        vertical-align: top;\n",
       "    }\n",
       "\n",
       "    .dataframe thead th {\n",
       "        text-align: right;\n",
       "    }\n",
       "</style>\n",
       "<table border=\"1\" class=\"dataframe\">\n",
       "  <thead>\n",
       "    <tr style=\"text-align: right;\">\n",
       "      <th></th>\n",
       "      <th>pred_1</th>\n",
       "      <th>pred_2</th>\n",
       "      <th>pred_3</th>\n",
       "    </tr>\n",
       "  </thead>\n",
       "  <tbody>\n",
       "    <tr>\n",
       "      <th>real_1</th>\n",
       "      <td>12</td>\n",
       "      <td>5</td>\n",
       "      <td>0</td>\n",
       "    </tr>\n",
       "    <tr>\n",
       "      <th>real_2</th>\n",
       "      <td>3</td>\n",
       "      <td>10</td>\n",
       "      <td>3</td>\n",
       "    </tr>\n",
       "    <tr>\n",
       "      <th>real_3</th>\n",
       "      <td>1</td>\n",
       "      <td>2</td>\n",
       "      <td>4</td>\n",
       "    </tr>\n",
       "  </tbody>\n",
       "</table>\n",
       "</div>"
      ],
      "text/plain": [
       "        pred_1  pred_2  pred_3\n",
       "real_1      12       5       0\n",
       "real_2       3      10       3\n",
       "real_3       1       2       4"
      ]
     },
     "execution_count": 68,
     "metadata": {},
     "output_type": "execute_result"
    }
   ],
   "source": [
    "matrix = np.zeros((3,3))\n",
    "for i in range(len(real)):\n",
    "    matrix[real[i]-1][my_pred[i]-1] += 1\n",
    "pd.DataFrame(matrix.astype(int),index=['real_%s'%(i+1) for i in range(3)],columns=['pred_%s'%(i +1) for i in range(3)])"
   ]
  },
  {
   "cell_type": "code",
   "execution_count": 51,
   "metadata": {},
   "outputs": [
    {
     "data": {
      "text/html": [
       "<div>\n",
       "<style scoped>\n",
       "    .dataframe tbody tr th:only-of-type {\n",
       "        vertical-align: middle;\n",
       "    }\n",
       "\n",
       "    .dataframe tbody tr th {\n",
       "        vertical-align: top;\n",
       "    }\n",
       "\n",
       "    .dataframe thead th {\n",
       "        text-align: right;\n",
       "    }\n",
       "</style>\n",
       "<table border=\"1\" class=\"dataframe\">\n",
       "  <thead>\n",
       "    <tr style=\"text-align: right;\">\n",
       "      <th></th>\n",
       "      <th>logit 2(base 1)</th>\n",
       "      <th>logit 3(base 1)</th>\n",
       "    </tr>\n",
       "  </thead>\n",
       "  <tbody>\n",
       "    <tr>\n",
       "      <th>const</th>\n",
       "      <td>-20.255322</td>\n",
       "      <td>-24.510588</td>\n",
       "    </tr>\n",
       "    <tr>\n",
       "      <th>专业课x1</th>\n",
       "      <td>0.185051</td>\n",
       "      <td>0.006293</td>\n",
       "    </tr>\n",
       "    <tr>\n",
       "      <th>英语x2</th>\n",
       "      <td>0.021993</td>\n",
       "      <td>0.184559</td>\n",
       "    </tr>\n",
       "    <tr>\n",
       "      <th>性别x3</th>\n",
       "      <td>0.778040</td>\n",
       "      <td>-0.556140</td>\n",
       "    </tr>\n",
       "    <tr>\n",
       "      <th>月生活费x4</th>\n",
       "      <td>0.004702</td>\n",
       "      <td>0.010588</td>\n",
       "    </tr>\n",
       "  </tbody>\n",
       "</table>\n",
       "</div>"
      ],
      "text/plain": [
       "        logit 2(base 1)  logit 3(base 1)\n",
       "const        -20.255322       -24.510588\n",
       "专业课x1          0.185051         0.006293\n",
       "英语x2           0.021993         0.184559\n",
       "性别x3           0.778040        -0.556140\n",
       "月生活费x4         0.004702         0.010588"
      ]
     },
     "execution_count": 51,
     "metadata": {},
     "output_type": "execute_result"
    }
   ],
   "source": [
    "res = pd.DataFrame(Beta,index = ['const','专业课x1','英语x2','性别x3','月生活费x4'],\\\n",
    "                   columns=['logit 2(base 1)','logit 3(base 1)'])\n",
    "res"
   ]
  },
  {
   "cell_type": "markdown",
   "metadata": {},
   "source": [
    "**conclusion**\n",
    "\n",
    "I perform the single logit regression on each target label(2,3) based on the label=1. Then I use softmax function to determine the probability of each class for each row of data. My logit model predict 26 correct label of 40 rows of data so its coefficients have some explainary power for graduates' decision. I use working class(lable=1) as base to show two logit model(1v1) coefficients. For graduate who decide to have a further graduation, the score of professional lessons, English class, and the living expenses may have a positive effect on it, while more girls like to go aboard and more boys choose not to go aboard. For those who finally decide to have aboard education, English Language ability and the expense of living may be a good factor to predict that."
   ]
  },
  {
   "cell_type": "markdown",
   "metadata": {},
   "source": [
    "**more analysis**\n",
    "\n",
    "For more coefficient and test info, I will use package statsmodel to show more results."
   ]
  },
  {
   "cell_type": "code",
   "execution_count": 66,
   "metadata": {},
   "outputs": [
    {
     "name": "stdout",
     "output_type": "stream",
     "text": [
      "Optimization terminated successfully.\n",
      "         Current function value: 0.421447\n",
      "         Iterations 7\n",
      "                         Results: Logit\n",
      "================================================================\n",
      "Model:              Logit            Pseudo R-squared: 0.392    \n",
      "Dependent Variable: y                AIC:              37.8155  \n",
      "Date:               2019-12-19 12:28 BIC:              45.2980  \n",
      "No. Observations:   33               Log-Likelihood:   -13.908  \n",
      "Df Model:           4                LL-Null:          -22.859  \n",
      "Df Residuals:       28               LLR p-value:      0.0012898\n",
      "Converged:          1.0000           Scale:            1.0000   \n",
      "No. Iterations:     7.0000                                      \n",
      "-----------------------------------------------------------------\n",
      "            Coef.    Std.Err.     z     P>|z|    [0.025    0.975]\n",
      "-----------------------------------------------------------------\n",
      "const      -20.2553    7.7839  -2.6022  0.0093  -35.5115  -4.9992\n",
      "x1           0.1851    0.0709   2.6110  0.0090    0.0461   0.3240\n",
      "x2           0.0220    0.0452   0.4864  0.6267   -0.0666   0.1106\n",
      "x3           0.7780    0.9985   0.7792  0.4359   -1.1790   2.7351\n",
      "x4           0.0047    0.0033   1.4179  0.1562   -0.0018   0.0112\n",
      "================================================================\n",
      "\n",
      "Optimization terminated successfully.\n",
      "         Current function value: 0.336632\n",
      "         Iterations 7\n",
      "                        Results: Logit\n",
      "===============================================================\n",
      "Model:              Logit            Pseudo R-squared: 0.442   \n",
      "Dependent Variable: y                AIC:              26.1583 \n",
      "Date:               2019-12-19 12:28 BIC:              32.0486 \n",
      "No. Observations:   24               Log-Likelihood:   -8.0792 \n",
      "Df Model:           4                LL-Null:          -14.487 \n",
      "Df Residuals:       19               LLR p-value:      0.012209\n",
      "Converged:          1.0000           Scale:            1.0000  \n",
      "No. Iterations:     7.0000                                     \n",
      "----------------------------------------------------------------\n",
      "           Coef.    Std.Err.     z     P>|z|    [0.025    0.975]\n",
      "----------------------------------------------------------------\n",
      "const     -24.5106   11.0098  -2.2263  0.0260  -46.0894  -2.9318\n",
      "x1          0.0063    0.0726   0.0867  0.9309   -0.1360   0.1486\n",
      "x2          0.1846    0.0893   2.0659  0.0388    0.0095   0.3597\n",
      "x3         -0.5561    1.3328  -0.4173  0.6765   -3.1685   2.0562\n",
      "x4          0.0106    0.0048   2.1859  0.0288    0.0011   0.0201\n",
      "===============================================================\n",
      "\n"
     ]
    }
   ],
   "source": [
    "import statsmodels.api as sma\n",
    "for i in range(3-1):\n",
    "    df_tmp = df[df['y'].apply(lambda x:True if x in [1,i+2] else False)]\n",
    "    X = df_tmp[['x'+str(i+1) for i in range(4)]].to_numpy()\n",
    "    y = df_tmp['y=%s'%(i+2)].to_numpy()\n",
    "    X = np.hstack([np.ones((X.shape[0],1)),X])\n",
    "    result=sma.Logit(y,X).fit()\n",
    "    print(result.summary2())"
   ]
  },
  {
   "cell_type": "markdown",
   "metadata": {},
   "source": [
    "**more conclusion**\n",
    "\n",
    "The package give the same result as my DIY function, the significance shows that x1 is the major factor of label=2's decision, while x2 and x4 is the major factor of label=3's decision."
   ]
  },
  {
   "cell_type": "code",
   "execution_count": null,
   "metadata": {},
   "outputs": [],
   "source": []
  }
 ],
 "metadata": {
  "kernelspec": {
   "display_name": "Python 3",
   "language": "python",
   "name": "python3"
  },
  "language_info": {
   "codemirror_mode": {
    "name": "ipython",
    "version": 3
   },
   "file_extension": ".py",
   "mimetype": "text/x-python",
   "name": "python",
   "nbconvert_exporter": "python",
   "pygments_lexer": "ipython3",
   "version": "3.7.3"
  }
 },
 "nbformat": 4,
 "nbformat_minor": 4
}
