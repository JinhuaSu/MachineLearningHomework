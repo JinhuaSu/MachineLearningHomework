{
 "cells": [
  {
   "cell_type": "markdown",
   "metadata": {},
   "source": [
    "# Regression homework in week 8\n",
    "- 2019.11.6\n",
    "- 苏锦华 2017201620\n",
    "## Requirements\n",
    "- regression sells(y) on sessions(x1) and CTR(x2), draw error figure and judge sequence-autocorrelation by DW test\n",
    "- use iteration method for data processing to alleviate sequence-autocorrelation\n",
    "- use first order difference\n",
    "- compare the property of above three regression\n",
    "## Subgoal\n",
    "- practise matrix manipulation using numpy\n",
    "- don't use package. do it from basic frame\n",
    "- wrap a class for multiple linear regression and method for data processing\n",
    "- practise vim for text editing"
   ]
  },
  {
   "cell_type": "code",
   "execution_count": 41,
   "metadata": {},
   "outputs": [],
   "source": [
    "import numpy as np\n",
    "import matplotlib.pyplot as plt"
   ]
  },
  {
   "cell_type": "code",
   "execution_count": 49,
   "metadata": {},
   "outputs": [
    {
     "data": {
      "text/html": [
       "<div>\n",
       "<style scoped>\n",
       "    .dataframe tbody tr th:only-of-type {\n",
       "        vertical-align: middle;\n",
       "    }\n",
       "\n",
       "    .dataframe tbody tr th {\n",
       "        vertical-align: top;\n",
       "    }\n",
       "\n",
       "    .dataframe thead th {\n",
       "        text-align: right;\n",
       "    }\n",
       "</style>\n",
       "<table border=\"1\" class=\"dataframe\">\n",
       "  <thead>\n",
       "    <tr style=\"text-align: right;\">\n",
       "      <th></th>\n",
       "      <th>周次</th>\n",
       "      <th>销售额y</th>\n",
       "      <th>每周演出场次x1</th>\n",
       "      <th>周点击率x2</th>\n",
       "    </tr>\n",
       "  </thead>\n",
       "  <tbody>\n",
       "    <tr>\n",
       "      <th>0</th>\n",
       "      <td>1</td>\n",
       "      <td>893.93</td>\n",
       "      <td>5</td>\n",
       "      <td>292</td>\n",
       "    </tr>\n",
       "    <tr>\n",
       "      <th>1</th>\n",
       "      <td>2</td>\n",
       "      <td>1091.27</td>\n",
       "      <td>5</td>\n",
       "      <td>252</td>\n",
       "    </tr>\n",
       "    <tr>\n",
       "      <th>2</th>\n",
       "      <td>3</td>\n",
       "      <td>1229.97</td>\n",
       "      <td>5</td>\n",
       "      <td>267</td>\n",
       "    </tr>\n",
       "    <tr>\n",
       "      <th>3</th>\n",
       "      <td>4</td>\n",
       "      <td>1045.85</td>\n",
       "      <td>5</td>\n",
       "      <td>379</td>\n",
       "    </tr>\n",
       "    <tr>\n",
       "      <th>4</th>\n",
       "      <td>5</td>\n",
       "      <td>997.24</td>\n",
       "      <td>5</td>\n",
       "      <td>318</td>\n",
       "    </tr>\n",
       "  </tbody>\n",
       "</table>\n",
       "</div>"
      ],
      "text/plain": [
       "   周次     销售额y  每周演出场次x1  周点击率x2\n",
       "0   1   893.93         5     292\n",
       "1   2  1091.27         5     252\n",
       "2   3  1229.97         5     267\n",
       "3   4  1045.85         5     379\n",
       "4   5   997.24         5     318"
      ]
     },
     "execution_count": 49,
     "metadata": {},
     "output_type": "execute_result"
    }
   ],
   "source": [
    "file.head()"
   ]
  },
  {
   "cell_type": "code",
   "execution_count": 42,
   "metadata": {},
   "outputs": [],
   "source": [
    "import pandas as pd\n",
    "file = pd.read_excel('huigui.data.xlsx')\n",
    "X = file.iloc[:,2:].to_numpy()\n",
    "y = file.iloc[:,1].to_numpy()"
   ]
  },
  {
   "cell_type": "code",
   "execution_count": 200,
   "metadata": {},
   "outputs": [],
   "source": [
    "class multiple_linear_regression(object):\n",
    "    def __init__(self,y,X,*args):\n",
    "        self.y = y\n",
    "        self.X = X \n",
    "        self.name = args\n",
    "        self.total_dict = {}\n",
    "        self.OLS()\n",
    "        self.iteration_method()\n",
    "        self.first_order_difference()\n",
    "    def regression(self,y,X):\n",
    "        Beta = np.linalg.inv(((X-X.mean(axis = 0)).T.dot(X-X.mean(axis = 0)))).dot((X-X.mean(axis = 0)).T.dot((y - y.mean())))\n",
    "        const = y.mean() - np.sum(X.mean(axis = 0)*Beta) \n",
    "        return {'cons':const,'coef':Beta}\n",
    "    def pretty_report(self,type = 'OLS'):\n",
    "        def get_regression_result(cons,coef,name):\n",
    "            s = name[0] + ' = ' + str(cons)\n",
    "#             print(ceof)\n",
    "            for i in range(len(coef)):\n",
    "                s += ' + ' + str(coef[i]) +'*'+ name[i+1] + '_' + str(i+1)\n",
    "            return s\n",
    "        template = \\\n",
    "\"\"\"\n",
    "method: {type}\n",
    "-------------------\n",
    "{result}\n",
    "DW_value: {DW}\n",
    "rho: {rho}\n",
    "error figure on each explanatory varible:\n",
    "\"\"\"\n",
    "        if type == 'OLS':\n",
    "            name = self.name\n",
    "        elif type == 'iteration_method':\n",
    "            name = ['[{0}(t) - rho * {0}(t-1)]'.format(s) for s in self.name]     \n",
    "        elif type == 'first_order_difference':\n",
    "            name = ['delta_'+s for s in self.name]\n",
    "#         para_dict = {}\n",
    "#         print()\n",
    "#         print(para_dict)\n",
    "        para_dict = self.total_dict[type]\n",
    "        format_dict = {'type':type,'result':get_regression_result(para_dict['cons'],para_dict['coef'],name),\\\n",
    "                      'DW':para_dict['DW'],'rho':para_dict['rho']}\n",
    "        print(template.format(**format_dict))\n",
    "        self.error_figure(type)\n",
    "    def DW_test(self,type = 'OLS'):\n",
    "        para_dict = self.total_dict[type]\n",
    "        X,y,coef,cons = para_dict['X'],para_dict['y'],para_dict['coef'],para_dict['cons']\n",
    "#         print(coef)\n",
    "#         print(cons)\n",
    "        error = X.dot(coef) + cons - y\n",
    "        DW = np.sum(np.diff(error)**2) / np.sum(error[1:]**2)\n",
    "        return {'error':error,'DW':DW,'rho': 1 - 0.5 * DW}\n",
    "    def error_figure(self,type = 'OLS'):\n",
    "        X,error = self.total_dict[type]['X'],self.total_dict[type]['error']\n",
    "        for i in range(X.shape[1]):\n",
    "                plt.figure()\n",
    "                plt.scatter(X[:,i],error)\n",
    "                plt.show()\n",
    "    def OLS(self):\n",
    "        self.total_dict['OLS'] = self.regression(self.y,self.X)\n",
    "        self.total_dict['OLS'].update({'X':self.X,'y':self.y})\n",
    "        self.total_dict['OLS'].update(self.DW_test('OLS'))\n",
    "    def iteration_method(self):\n",
    "        rho = self.total_dict['OLS']['rho']\n",
    "        y,X = self.y[1:] - rho*self.y[:-1],self.X[1:,:] - rho*self.X[:-1,:]\n",
    "        self.total_dict['iteration_method'] = {'y':y,'X':X}\n",
    "        self.total_dict['iteration_method'].update(self.regression(y,X))\n",
    "        self.total_dict['iteration_method'].update(self.DW_test('iteration_method'))\n",
    "    def first_order_difference(self):\n",
    "        y_diff = np.diff(self.y) \n",
    "        X_diff = np.diff(self.X,axis = 0)\n",
    "        self.total_dict['first_order_difference'] = {'y':y_diff,'X':X_diff}\n",
    "        self.total_dict['first_order_difference'].update(self.regression(y_diff,X_diff))\n",
    "        self.total_dict['first_order_difference'].update(self.DW_test('first_order_difference'))"
   ]
  },
  {
   "cell_type": "code",
   "execution_count": 202,
   "metadata": {},
   "outputs": [
    {
     "name": "stdout",
     "output_type": "stream",
     "text": [
      "\n",
      "method: OLS\n",
      "-------------------\n",
      "Sell = -574.0623902058405 + 191.09849049375447*Session_1 + 2.045137363395262*CTR_2\n",
      "DW_value: 0.7462663045239724\n",
      "rho: 0.6268668477380138\n",
      "error figure on each explanatory varible:\n",
      "\n"
     ]
    },
    {
     "data": {
      "image/png": "[encoded data removed]",
      "text/plain": [
       "<Figure size 432x288 with 1 Axes>"
      ]
     },
     "metadata": {
      "needs_background": "light"
     },
     "output_type": "display_data"
    },
    {
     "data": {
      "image/png": "[encoded data removed]",
      "text/plain": [
       "<Figure size 432x288 with 1 Axes>"
      ]
     },
     "metadata": {
      "needs_background": "light"
     },
     "output_type": "display_data"
    },
    {
     "name": "stdout",
     "output_type": "stream",
     "text": [
      "\n",
      "method: iteration_method\n",
      "-------------------\n",
      "[Sell(t) - rho * Sell(t-1)] = -179.1101542379743 + 211.10636358443725*[Session(t) - rho * Session(t-1)]_1 + 1.436719729442393*[CTR(t) - rho * CTR(t-1)]_2\n",
      "DW_value: 1.7410737579984774\n",
      "rho: 0.1294631210007613\n",
      "error figure on each explanatory varible:\n",
      "\n"
     ]
    },
    {
     "data": {
      "image/png": "[encoded data removed]",
      "text/plain": [
       "<Figure size 432x288 with 1 Axes>"
      ]
     },
     "metadata": {
      "needs_background": "light"
     },
     "output_type": "display_data"
    },
    {
     "data": {
      "image/png": "[encoded data removed]",
      "text/plain": [
       "<Figure size 432x288 with 1 Axes>"
      ]
     },
     "metadata": {
      "needs_background": "light"
     },
     "output_type": "display_data"
    },
    {
     "name": "stdout",
     "output_type": "stream",
     "text": [
      "\n",
      "method: first_order_difference\n",
      "-------------------\n",
      "delta_Sell = 7.698100775695237 + 209.89105753737442*delta_Session_1 + 1.3989770599380433*delta_CTR_2\n",
      "DW_value: 2.0740966286253477\n",
      "rho: -0.03704831431267386\n",
      "error figure on each explanatory varible:\n",
      "\n"
     ]
    },
    {
     "data": {
      "image/png": "[encoded data removed]",
      "text/plain": [
       "<Figure size 432x288 with 1 Axes>"
      ]
     },
     "metadata": {
      "needs_background": "light"
     },
     "output_type": "display_data"
    },
    {
     "data": {
      "image/png": "[encoded data removed]",
      "text/plain": [
       "<Figure size 432x288 with 1 Axes>"
      ]
     },
     "metadata": {
      "needs_background": "light"
     },
     "output_type": "display_data"
    }
   ],
   "source": [
    "mlr = multiple_linear_regression(y,X,'Sell','Session','CTR')\n",
    "for t in ['OLS','iteration_method','first_order_difference']:\n",
    "    mlr.pretty_report(t)"
   ]
  },
  {
   "cell_type": "markdown",
   "metadata": {},
   "source": [
    "## Conclusion\n",
    "Simply using OLS on the sequence data for regression has a risk of autocorrelation.\n",
    "- In error figure, we can see that error increases as first explanatory variable increases, which indicate that the consumption of indepence of each error may not be correct.\n",
    "- With DW-test, positive autocorrelation can not be ignored and the estimate of rho reaches 0.6.\n",
    "- By checking DW-test table, in context the uper is 1.462 while the lower is 1.628, so the null hypothesis can be denied with confidence of 95%. That indicates real autocorrelation.\n",
    "- By two method of data processing, the new regression results all pass DW-test.\n",
    "- In this case, even the rho is just 0.6, a bit far from 1, theoratically first_order_difference may be worse than iteration method.\n",
    "- Since I only iter one times with iteration method for it has erasered the autocorrelation, first_order_difference performed better than iteration method."
   ]
  },
  {
   "cell_type": "code",
   "execution_count": null,
   "metadata": {},
   "outputs": [],
   "source": []
  }
 ],
 "metadata": {
  "kernelspec": {
   "display_name": "Python 3",
   "language": "python",
   "name": "python3"
  },
  "language_info": {
   "codemirror_mode": {
    "name": "ipython",
    "version": 3
   },
   "file_extension": ".py",
   "mimetype": "text/x-python",
   "name": "python",
   "nbconvert_exporter": "python",
   "pygments_lexer": "ipython3",
   "version": "3.7.3"
  }
 },
 "nbformat": 4,
 "nbformat_minor": 4
}
