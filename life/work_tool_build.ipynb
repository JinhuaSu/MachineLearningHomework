{
 "cells": [
  {
   "cell_type": "markdown",
   "metadata": {},
   "source": [
    "# requirement analysis\n",
    "- set a regular task\n",
    "- when task apears, it'd better give one each time that will use to_do_manager()\n",
    "- built a item pusher, give a push into the stack, every day will be OK.\n",
    "- lazy learning will be OK, yes \n",
    "\n",
    "# to_do_list\n",
    "- know how to use time\n",
    "- know about how to use pandas\n",
    "- test new\n",
    "- use manager3 for testing\n",
    "- clear the work eara\n",
    "- maybe I could set a regular reminder, but I think that do not push myself, it will make me loss power to think and chase what i really want."
   ]
  },
  {
   "cell_type": "code",
   "execution_count": null,
   "metadata": {},
   "outputs": [],
   "source": [
    "import pandas as pd\n",
    "import time\n",
    "class Ebbinghaus_helper(object):\n",
    "    def __init__(self,data_path):\n",
    "        self.data_path = data_path\n",
    "        try:\n",
    "            self.df = pd.read_csv(data_path)\n",
    "        except:\n",
    "            self.df = pd.DataFrame(columns = ['uni_root','name','content','start_time','type','importance'])\n",
    "    def new_regular(self,uni_root,first_start,repeat_time,interval,preview_d,review_d):\n",
    "        def to_second(str_time):\n",
    "            time_dict = ['m':60,'h':3600,'d':86400,'w':604800]\n",
    "            return int(str_time[:-1]) * time_dict[str_time[-1]]\n",
    "        int_inverval = to_second(inverval)\n",
    "        \n",
    "        self.save()\n",
    "    def lazy_push(self,manager):\n",
    "        pass\n",
    "        self.save()\n",
    "    def save(self):\n",
    "        self.df.to_csv(self.data_path)"
   ]
  },
  {
   "cell_type": "code",
   "execution_count": 130,
   "metadata": {},
   "outputs": [],
   "source": [
    "import time\n",
    "class mission(object):\n",
    "    def __init__(self,id,args):\n",
    "        self.id = id\n",
    "        self.name = args['name']\n",
    "        self.root = args['root']\n",
    "        self.content = args['content']\n",
    "        self.ddl = args['ddl']\n",
    "        self.importance = args['importance']\n",
    "        self.tag = args['tag']\n",
    "        self.s = self.report()\n",
    "    def report(self):\n",
    "        s = \\\n",
    "\"\"\"\n",
    "----mission info-----\\n\n",
    "id:{id}|tag:{tag}\\n\n",
    "ddl:{ddl}|importance:{importance}\\n\n",
    "root:{root}\\n\n",
    "name:{name}\\n\n",
    "content:\\n{content}\\n\n",
    "---------------------\\n\n",
    "\"\"\".format(id=self.id,tag=self.tag,ddl=self.ddl,\\\n",
    "           importance=self.importance,root=self.root,\\\n",
    "           name=self.name,content=self.content)\n",
    "        return s\n",
    "    def __str__(self):\n",
    "        return self.s\n",
    "class to_do_manager(object):\n",
    "    \"\"\"\n",
    "    focus on the soft happen mission\n",
    "    if it is explicit has a start time and last time, \n",
    "    just write down it on your calendar or make up a clock.\n",
    "    to-do-manager target on the soft-ddl mission.\n",
    "    yes it can be split into several subtask if ddl is on time.\n",
    "    \"\"\"\n",
    "    def __init__(self):\n",
    "        self.work_flow = {}\n",
    "        self.id_count = 0\n",
    "    def order(self,tag):\n",
    "        self.work_flow[tag].sort(key = lambda x:x.importance)\n",
    "    def get_mission(self,**kwargs):\n",
    "        keys = ['root', 'tag', 'name', 'importance', 'content', 'ddl']\n",
    "        values = [-1,'trifle','',0,'',None]\n",
    "        default = dict(zip(keys,values))\n",
    "        for key,value in kwargs.items():\n",
    "            default[key] = value\n",
    "        if default['tag'] in self.work_flow.keys():\n",
    "            self.work_flow[default['tag']].append(mission(self.id_count,default))\n",
    "            self.order(default['tag'])\n",
    "        else:\n",
    "            self.work_flow[default['tag']] = [mission(self.id_count,default)]\n",
    "        self.id_count += 1\n",
    "    def show_to_do(self,tag):\n",
    "        print(self.work_flow[tag][-1])\n",
    "    def to_do(self,tag,how,*args):\n",
    "        assert how in ['sub','sure','unsure']\n",
    "        if how == 'sure':\n",
    "            print(self.work_flow[tag].pop())\n",
    "        elif how == 'unsure':\n",
    "            self.show_to_do(tag)\n",
    "        elif how == 'sub':\n",
    "            m = self.work_flow[tag].pop()\n",
    "            for kwargs in args:\n",
    "                kwargs['root'] = m.name\n",
    "                kwargs['tag'] = m.tag\n",
    "                kwargs['id'] = self.id_count\n",
    "                self.id_count += 1\n",
    "                if 'ddl' not in kwargs.keys():\n",
    "                    kwargs['ddl'] = m.ddl\n",
    "                if 'importance' not in kwargs.keys():\n",
    "                    kwargs['importance'] = m.importance\n",
    "                self.get_mission(**kwargs)\n",
    "    def show_to_do_list(self,tag):\n",
    "        for i in range(-1,-(len(self.work_flow[tag])+1),-1):\n",
    "            print(self.work_flow[tag][i])\n",
    "    def manage_order(self,id,importance):\n",
    "        for tag in self.work_flow.keys():\n",
    "            for i in range(len(self.work_flow[tag])):\n",
    "                if self.work_flow[tag][i].id == id:\n",
    "                    self.work_flow[tag][i].importance = importance\n",
    "                    self.work_flow[tag][i].s = self.work_flow[tag][i].report()\n",
    "                    self.order(tag)\n",
    "                    return True\n",
    "        return False"
   ]
  },
  {
   "cell_type": "code",
   "execution_count": 129,
   "metadata": {},
   "outputs": [],
   "source": [
    "import pandas as pd\n",
    "pd.DataFrame"
   ]
  },
  {
   "cell_type": "code",
   "execution_count": 131,
   "metadata": {},
   "outputs": [],
   "source": [
    "manager = to_do_manager()"
   ]
  },
  {
   "cell_type": "markdown",
   "metadata": {},
   "source": [
    "# Show"
   ]
  },
  {
   "cell_type": "code",
   "execution_count": 266,
   "metadata": {},
   "outputs": [
    {
     "name": "stdout",
     "output_type": "stream",
     "text": [
      "\n",
      "----mission info-----\n",
      "\n",
      "id:56|tag:study\n",
      "\n",
      "ddl:2019-12-2|importance:3\n",
      "\n",
      "root:-1\n",
      "\n",
      "name:regression\n",
      "\n",
      "content:\n",
      "list sub-task\n",
      "\n",
      "---------------------\n",
      "\n",
      "\n"
     ]
    }
   ],
   "source": [
    "type_ = 'study'\n",
    "manager.to_do(type_,'unsure')"
   ]
  },
  {
   "cell_type": "markdown",
   "metadata": {},
   "source": [
    "# Done"
   ]
  },
  {
   "cell_type": "code",
   "execution_count": 265,
   "metadata": {},
   "outputs": [
    {
     "name": "stdout",
     "output_type": "stream",
     "text": [
      "\n",
      "----mission info-----\n",
      "\n",
      "id:17|tag:work\n",
      "\n",
      "ddl:2019-11-25|importance:3\n",
      "\n",
      "root:-1\n",
      "\n",
      "name:BigChuang\n",
      "\n",
      "content:\n",
      "do not sleep and finish what i could.\n",
      "\n",
      "---------------------\n",
      "\n",
      "\n"
     ]
    }
   ],
   "source": [
    "type_ = 'work'\n",
    "manager.to_do(type_,'sure')"
   ]
  },
  {
   "cell_type": "code",
   "execution_count": null,
   "metadata": {},
   "outputs": [],
   "source": []
  },
  {
   "cell_type": "markdown",
   "metadata": {},
   "source": [
    "# Push"
   ]
  },
  {
   "cell_type": "code",
   "execution_count": 260,
   "metadata": {},
   "outputs": [],
   "source": [
    "dic = {\n",
    "    'root':-1,\n",
    "    'tag':'research',\n",
    "    'name':'change the attention',\n",
    "    'importance':3,\n",
    "    'content':'test on the notebook use import',\n",
    "    'ddl':'2019-12-3',\n",
    "}\n",
    "manager.get_mission(**dic)"
   ]
  },
  {
   "cell_type": "code",
   "execution_count": null,
   "metadata": {},
   "outputs": [],
   "source": []
  },
  {
   "cell_type": "markdown",
   "metadata": {},
   "source": [
    "# Show_list"
   ]
  },
  {
   "cell_type": "code",
   "execution_count": 262,
   "metadata": {},
   "outputs": [
    {
     "name": "stdout",
     "output_type": "stream",
     "text": [
      "\n",
      "----mission info-----\n",
      "\n",
      "id:59|tag:research\n",
      "\n",
      "ddl:2019-12-3|importance:3\n",
      "\n",
      "root:-1\n",
      "\n",
      "name:change the attention\n",
      "\n",
      "content:\n",
      "test on the notebook use import\n",
      "\n",
      "---------------------\n",
      "\n",
      "\n"
     ]
    }
   ],
   "source": [
    "type_ = 'research'\n",
    "manager.show_to_do_list(type_)"
   ]
  },
  {
   "cell_type": "code",
   "execution_count": null,
   "metadata": {},
   "outputs": [],
   "source": []
  },
  {
   "cell_type": "markdown",
   "metadata": {},
   "source": [
    "# Order"
   ]
  },
  {
   "cell_type": "code",
   "execution_count": 142,
   "metadata": {},
   "outputs": [
    {
     "data": {
      "text/plain": [
       "True"
      ]
     },
     "execution_count": 142,
     "metadata": {},
     "output_type": "execute_result"
    }
   ],
   "source": [
    "id_ = 5\n",
    "new_importance = 4\n",
    "manager.manage_order(id_,new_importance)"
   ]
  },
  {
   "cell_type": "code",
   "execution_count": null,
   "metadata": {},
   "outputs": [],
   "source": []
  },
  {
   "cell_type": "markdown",
   "metadata": {},
   "source": [
    "# Save"
   ]
  },
  {
   "cell_type": "code",
   "execution_count": 248,
   "metadata": {},
   "outputs": [],
   "source": [
    "import pickle\n",
    "with open('tmp.pk','wb') as f:\n",
    "    pickle.dump(manager,f)"
   ]
  },
  {
   "cell_type": "code",
   "execution_count": null,
   "metadata": {},
   "outputs": [],
   "source": []
  },
  {
   "cell_type": "markdown",
   "metadata": {},
   "source": [
    "# Load"
   ]
  },
  {
   "cell_type": "code",
   "execution_count": null,
   "metadata": {},
   "outputs": [],
   "source": [
    "with open('tmp.pk','rb') as f:\n",
    "    manager = pickle.load(f)\n",
    "manager.to_do('study','unsure')"
   ]
  },
  {
   "cell_type": "code",
   "execution_count": null,
   "metadata": {},
   "outputs": [],
   "source": []
  },
  {
   "cell_type": "markdown",
   "metadata": {},
   "source": [
    "# Sub"
   ]
  },
  {
   "cell_type": "code",
   "execution_count": 239,
   "metadata": {},
   "outputs": [
    {
     "name": "stdout",
     "output_type": "stream",
     "text": [
      "\n",
      "----mission info-----\n",
      "\n",
      "id:53|tag:work\n",
      "\n",
      "ddl:2019-11-28|importance:4\n",
      "\n",
      "root:draw some picture\n",
      "\n",
      "name:have some picture\n",
      "\n",
      "content:\n",
      "decision tree \n",
      "\n",
      "---------------------\n",
      "\n",
      "\n"
     ]
    }
   ],
   "source": [
    "type_ = 'work'\n",
    "manager.to_do(type_,'sub',\\\n",
    "              {'name':'have some picture',\\\n",
    "               'content':'decision tree ',\\\n",
    "               'importance':4},\\\n",
    "             {'name':'code a hotmap',\\\n",
    "              'content':'1relationship resul directly count'})\n",
    "manager.show_to_do(type_)"
   ]
  },
  {
   "cell_type": "code",
   "execution_count": null,
   "metadata": {},
   "outputs": [],
   "source": []
  },
  {
   "cell_type": "code",
   "execution_count": null,
   "metadata": {},
   "outputs": [],
   "source": []
  }
 ],
 "metadata": {
  "kernelspec": {
   "display_name": "Python 3",
   "language": "python",
   "name": "python3"
  },
  "language_info": {
   "codemirror_mode": {
    "name": "ipython",
    "version": 3
   },
   "file_extension": ".py",
   "mimetype": "text/x-python",
   "name": "python",
   "nbconvert_exporter": "python",
   "pygments_lexer": "ipython3",
   "version": "3.7.3"
  }
 },
 "nbformat": 4,
 "nbformat_minor": 4
}
