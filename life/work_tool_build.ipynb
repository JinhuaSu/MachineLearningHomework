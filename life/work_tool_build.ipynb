{
 "cells": [
  {
   "cell_type": "code",
   "execution_count": 84,
   "metadata": {},
   "outputs": [],
   "source": [
    "import time\n",
    "class mission(object):\n",
    "    def __init__(self,id,args):\n",
    "        self.id = id\n",
    "        self.name = args['name']\n",
    "        self.root = args['root']\n",
    "        self.content = args['content']\n",
    "        self.ddl = args['ddl']\n",
    "        self.importance = args['importance']\n",
    "        self.tag = args['tag']\n",
    "        self.s = self.report()\n",
    "    def report(self):\n",
    "        s = \\\n",
    "\"\"\"\n",
    "----mission info-----\\n\n",
    "id:{id}|tag:{tag}\\n\n",
    "ddl:{ddl}|importance:{importance}\\n\n",
    "root:{root}\\n\n",
    "name:{name}\\n\n",
    "content:\\n{content}\\n\n",
    "---------------------\\n\n",
    "\"\"\".format(id=self.id,tag=self.tag,ddl=self.ddl,\\\n",
    "           importance=self.importance,root=self.root,\\\n",
    "           name=self.name,content=self.content)\n",
    "        return s\n",
    "    def __str__(self):\n",
    "        return self.s\n",
    "class to_do_manager(object):\n",
    "    \"\"\"\n",
    "    focus on the soft happen mission\n",
    "    if it is explicit has a start time and last time, \n",
    "    just write down it on your calendar or make up a clock.\n",
    "    to-do-manager target on the soft-ddl mission.\n",
    "    yes it can be split into several subtask if ddl is on time.\n",
    "    \"\"\"\n",
    "    def __init__(self):\n",
    "        self.work_flow = {}\n",
    "        self.id_count = 0\n",
    "    def order(self,tag):\n",
    "        self.work_flow[tag].sort(key = lambda x:x.importance)\n",
    "    def get_mission(self,**kwargs):\n",
    "        keys = ['root', 'tag', 'name', 'importance', 'content', 'ddl']\n",
    "        values = [-1,'trifle','',0,'',None]\n",
    "        default = dict(zip(keys,values))\n",
    "        for key,value in kwargs.items():\n",
    "            default[key] = value\n",
    "        if default['tag'] in self.work_flow.keys():\n",
    "            self.work_flow[default['tag']].append(mission(self.id_count,default))\n",
    "            self.order(default['tag'])\n",
    "        else:\n",
    "            self.work_flow[default['tag']] = [mission(self.id_count,default)]\n",
    "        self.id_count += 1\n",
    "    def show_to_do(self,tag):\n",
    "        print(self.work_flow[tag][-1])\n",
    "    def to_do(self,tag,how,*args):\n",
    "        assert how in ['sub','sure','unsure']\n",
    "        if how == 'sure':\n",
    "            print(self.work_flow[tag].pop())\n",
    "        elif how == 'unsure':\n",
    "            self.show_to_do(tag)\n",
    "        elif how == 'sub':\n",
    "            m = self.work_flow[tag].pop()\n",
    "            for kwargs in args:\n",
    "                kwargs['root'] = m.name\n",
    "                kwargs['tag'] = m.tag\n",
    "                kwargs['id'] = self.id_count\n",
    "                self.id_count += 1\n",
    "                if 'ddl' not in kwargs.keys():\n",
    "                    kwargs['ddl'] = m.ddl\n",
    "                if 'importance' not in kwargs.keys():\n",
    "                    kwargs['importance'] = m.importance\n",
    "                self.get_mission(**kwargs)\n",
    "    def show_to_do_list(self,tag):\n",
    "        for i in range(-1,-(len(self.work_flow[tag])+1),-1):\n",
    "            print(self.work_flow[tag][i])\n",
    "    def manage_order(self,id,importance):\n",
    "        for tag in self.work_flow.keys():\n",
    "            for i in range(len(self.work_flow[tag])):\n",
    "                if self.work_flow[tag][i].id == id:\n",
    "                    self.work_flow[tag][i].importance = importance\n",
    "                    self.work_flow[tag][i].s = self.work_flow[tag][i].report()\n",
    "                    self.order(tag)\n",
    "                    return True\n",
    "        return False"
   ]
  },
  {
   "cell_type": "code",
   "execution_count": 99,
   "metadata": {},
   "outputs": [],
   "source": [
    "manager = to_do_manager()"
   ]
  },
  {
   "cell_type": "code",
   "execution_count": 100,
   "metadata": {},
   "outputs": [],
   "source": [
    "dic = {\n",
    "    'root':-1,\n",
    "    'tag':'research',\n",
    "    'name':'NLP document vector',\n",
    "    'importance':3,\n",
    "    'content':'list my work sub problem',\n",
    "    'ddl':'2019-11-17',\n",
    "}\n",
    "manager.get_mission(**dic)\n"
   ]
  },
  {
   "cell_type": "code",
   "execution_count": 101,
   "metadata": {},
   "outputs": [
    {
     "name": "stdout",
     "output_type": "stream",
     "text": [
      "\n",
      "----mission info-----\n",
      "\n",
      "id:0|tag:research\n",
      "\n",
      "ddl:2019-11-17|importance:3\n",
      "\n",
      "root:-1\n",
      "\n",
      "name:NLP document vector\n",
      "\n",
      "content:\n",
      "list my work sub problem\n",
      "\n",
      "---------------------\n",
      "\n",
      "\n"
     ]
    }
   ],
   "source": [
    "manager.show_to_do('research')\n",
    "manager.to_do('research','sub',{'name':'pre-work','content':'modify and ask and run','importance':4},\\\n",
    "             {'name':'CNN coding','content':'find code and run'})"
   ]
  },
  {
   "cell_type": "code",
   "execution_count": 102,
   "metadata": {},
   "outputs": [
    {
     "name": "stdout",
     "output_type": "stream",
     "text": [
      "\n",
      "----mission info-----\n",
      "\n",
      "id:2|tag:research\n",
      "\n",
      "ddl:2019-11-17|importance:4\n",
      "\n",
      "root:NLP document vector\n",
      "\n",
      "name:pre-work\n",
      "\n",
      "content:\n",
      "modify and ask and run\n",
      "\n",
      "---------------------\n",
      "\n",
      "\n"
     ]
    }
   ],
   "source": [
    "manager.show_to_do('research')"
   ]
  },
  {
   "cell_type": "code",
   "execution_count": 103,
   "metadata": {},
   "outputs": [
    {
     "name": "stdout",
     "output_type": "stream",
     "text": [
      "\n",
      "----mission info-----\n",
      "\n",
      "id:2|tag:research\n",
      "\n",
      "ddl:2019-11-17|importance:4\n",
      "\n",
      "root:NLP document vector\n",
      "\n",
      "name:pre-work\n",
      "\n",
      "content:\n",
      "modify and ask and run\n",
      "\n",
      "---------------------\n",
      "\n",
      "\n"
     ]
    }
   ],
   "source": [
    "manager.to_do('research','unsure')"
   ]
  },
  {
   "cell_type": "code",
   "execution_count": 104,
   "metadata": {},
   "outputs": [],
   "source": [
    "dic = {\n",
    "    'root':-1,\n",
    "    'tag':'study',\n",
    "    'name':'Mechine Learning',\n",
    "    'importance':3,\n",
    "    'content':'solve the question I write down',\n",
    "    'ddl':'2019-11-18',\n",
    "}\n",
    "manager.get_mission(**dic)\n"
   ]
  },
  {
   "cell_type": "code",
   "execution_count": 105,
   "metadata": {},
   "outputs": [],
   "source": [
    "dic = {\n",
    "    'root':-1,\n",
    "    'tag':'study',\n",
    "    'name':'Econometric',\n",
    "    'importance':3,\n",
    "    'content':'write down the question of hw',\n",
    "    'ddl':'2019-11-18',\n",
    "}\n",
    "manager.get_mission(**dic)\n"
   ]
  },
  {
   "cell_type": "code",
   "execution_count": 106,
   "metadata": {},
   "outputs": [
    {
     "name": "stdout",
     "output_type": "stream",
     "text": [
      "\n",
      "----mission info-----\n",
      "\n",
      "id:6|tag:study\n",
      "\n",
      "ddl:2019-11-18|importance:3\n",
      "\n",
      "root:-1\n",
      "\n",
      "name:Econometric\n",
      "\n",
      "content:\n",
      "write down the question of hw\n",
      "\n",
      "---------------------\n",
      "\n",
      "\n"
     ]
    }
   ],
   "source": [
    "manager.show_to_do('study')"
   ]
  },
  {
   "cell_type": "code",
   "execution_count": 107,
   "metadata": {},
   "outputs": [
    {
     "name": "stdout",
     "output_type": "stream",
     "text": [
      "\n",
      "----mission info-----\n",
      "\n",
      "id:2|tag:research\n",
      "\n",
      "ddl:2019-11-17|importance:4\n",
      "\n",
      "root:NLP document vector\n",
      "\n",
      "name:pre-work\n",
      "\n",
      "content:\n",
      "modify and ask and run\n",
      "\n",
      "---------------------\n",
      "\n",
      "\n"
     ]
    }
   ],
   "source": [
    "manager.to_do('research','sure')"
   ]
  },
  {
   "cell_type": "code",
   "execution_count": 108,
   "metadata": {},
   "outputs": [
    {
     "name": "stdout",
     "output_type": "stream",
     "text": [
      "\n",
      "----mission info-----\n",
      "\n",
      "id:4|tag:research\n",
      "\n",
      "ddl:2019-11-17|importance:3\n",
      "\n",
      "root:NLP document vector\n",
      "\n",
      "name:CNN coding\n",
      "\n",
      "content:\n",
      "find code and run\n",
      "\n",
      "---------------------\n",
      "\n",
      "\n"
     ]
    }
   ],
   "source": [
    "manager.to_do('research','unsure')"
   ]
  },
  {
   "cell_type": "code",
   "execution_count": 109,
   "metadata": {},
   "outputs": [
    {
     "name": "stdout",
     "output_type": "stream",
     "text": [
      "\n",
      "----mission info-----\n",
      "\n",
      "id:6|tag:study\n",
      "\n",
      "ddl:2019-11-18|importance:3\n",
      "\n",
      "root:-1\n",
      "\n",
      "name:Econometric\n",
      "\n",
      "content:\n",
      "write down the question of hw\n",
      "\n",
      "---------------------\n",
      "\n",
      "\n",
      "\n",
      "----mission info-----\n",
      "\n",
      "id:5|tag:study\n",
      "\n",
      "ddl:2019-11-18|importance:3\n",
      "\n",
      "root:-1\n",
      "\n",
      "name:Mechine Learning\n",
      "\n",
      "content:\n",
      "solve the question I write down\n",
      "\n",
      "---------------------\n",
      "\n",
      "\n"
     ]
    }
   ],
   "source": [
    "manager.show_to_do_list('study')"
   ]
  },
  {
   "cell_type": "code",
   "execution_count": 110,
   "metadata": {},
   "outputs": [
    {
     "data": {
      "text/plain": [
       "True"
      ]
     },
     "execution_count": 110,
     "metadata": {},
     "output_type": "execute_result"
    }
   ],
   "source": [
    "manager.manage_order(5,4)"
   ]
  },
  {
   "cell_type": "code",
   "execution_count": 111,
   "metadata": {},
   "outputs": [
    {
     "name": "stdout",
     "output_type": "stream",
     "text": [
      "\n",
      "----mission info-----\n",
      "\n",
      "id:5|tag:study\n",
      "\n",
      "ddl:2019-11-18|importance:4\n",
      "\n",
      "root:-1\n",
      "\n",
      "name:Mechine Learning\n",
      "\n",
      "content:\n",
      "solve the question I write down\n",
      "\n",
      "---------------------\n",
      "\n",
      "\n"
     ]
    }
   ],
   "source": [
    "manager.to_do('study','unsure')"
   ]
  },
  {
   "cell_type": "code",
   "execution_count": 112,
   "metadata": {},
   "outputs": [
    {
     "name": "stdout",
     "output_type": "stream",
     "text": [
      "\n",
      "----mission info-----\n",
      "\n",
      "id:5|tag:study\n",
      "\n",
      "ddl:2019-11-18|importance:4\n",
      "\n",
      "root:-1\n",
      "\n",
      "name:Mechine Learning\n",
      "\n",
      "content:\n",
      "solve the question I write down\n",
      "\n",
      "---------------------\n",
      "\n",
      "\n"
     ]
    }
   ],
   "source": [
    "import pickle\n",
    "with open('tmp.pk','wb') as f:\n",
    "#     str_m = pickle.dumps(manager)\n",
    "    pickle.dump(manager,f)\n",
    "with open('tmp.pk','rb') as f:\n",
    "#     str_m2 = pickle.load(f)\n",
    "    manager3 = pickle.load(f)\n",
    "manager3.to_do('study','unsure')"
   ]
  },
  {
   "cell_type": "markdown",
   "metadata": {},
   "source": [
    "2019-11-18 10:34"
   ]
  },
  {
   "cell_type": "code",
   "execution_count": 113,
   "metadata": {},
   "outputs": [
    {
     "name": "stdout",
     "output_type": "stream",
     "text": [
      "\n",
      "----mission info-----\n",
      "\n",
      "id:8|tag:study\n",
      "\n",
      "ddl:2019-11-18|importance:5\n",
      "\n",
      "root:Mechine Learning\n",
      "\n",
      "name:key chapter\n",
      "\n",
      "content:\n",
      "independently without online answer.\n",
      "\n",
      "---------------------\n",
      "\n",
      "\n"
     ]
    }
   ],
   "source": [
    "manager.to_do('study','sub',{'name':'key chapter','content':'independently without online answer.','importance':5},\\\n",
    "             {'name':'other chapter','content':'think and get a inspiration from online and finally get through it'})\n",
    "manager.show_to_do('study')"
   ]
  },
  {
   "cell_type": "code",
   "execution_count": 115,
   "metadata": {},
   "outputs": [
    {
     "name": "stdout",
     "output_type": "stream",
     "text": [
      "\n",
      "----mission info-----\n",
      "\n",
      "id:14|tag:research\n",
      "\n",
      "ddl:2019-11-17|importance:3\n",
      "\n",
      "root:CNN coding\n",
      "\n",
      "name:run\n",
      "\n",
      "content:\n",
      "modify a structure in order that i could make a mutli choice\n",
      "\n",
      "---------------------\n",
      "\n",
      "\n"
     ]
    }
   ],
   "source": [
    "manager.to_do('research','sub',{'name':'make a console test','content':'generate a shape like above and compare the similarity'},\\\n",
    "             {'name':'run','content':'modify a structure in order that i could make a mutli choice'})\n",
    "manager.to_do('research','unsure')"
   ]
  },
  {
   "cell_type": "code",
   "execution_count": 116,
   "metadata": {},
   "outputs": [
    {
     "name": "stdout",
     "output_type": "stream",
     "text": [
      "\n",
      "----mission info-----\n",
      "\n",
      "id:14|tag:research\n",
      "\n",
      "ddl:2019-11-17|importance:3\n",
      "\n",
      "root:CNN coding\n",
      "\n",
      "name:run\n",
      "\n",
      "content:\n",
      "modify a structure in order that i could make a mutli choice\n",
      "\n",
      "---------------------\n",
      "\n",
      "\n",
      "\n",
      "----mission info-----\n",
      "\n",
      "id:12|tag:research\n",
      "\n",
      "ddl:2019-11-17|importance:3\n",
      "\n",
      "root:CNN coding\n",
      "\n",
      "name:make a console test\n",
      "\n",
      "content:\n",
      "generate a shape like above and compare the similarity\n",
      "\n",
      "---------------------\n",
      "\n",
      "\n"
     ]
    }
   ],
   "source": [
    "manager.to_do('research','sure')\n",
    "manager.to_do('research','unsure')"
   ]
  },
  {
   "cell_type": "code",
   "execution_count": 117,
   "metadata": {},
   "outputs": [
    {
     "name": "stdout",
     "output_type": "stream",
     "text": [
      "\n",
      "----mission info-----\n",
      "\n",
      "id:12|tag:research\n",
      "\n",
      "ddl:2019-11-17|importance:3\n",
      "\n",
      "root:CNN coding\n",
      "\n",
      "name:make a console test\n",
      "\n",
      "content:\n",
      "generate a shape like above and compare the similarity\n",
      "\n",
      "---------------------\n",
      "\n",
      "\n",
      "\n",
      "----mission info-----\n",
      "\n",
      "id:8|tag:study\n",
      "\n",
      "ddl:2019-11-18|importance:5\n",
      "\n",
      "root:Mechine Learning\n",
      "\n",
      "name:key chapter\n",
      "\n",
      "content:\n",
      "independently without online answer.\n",
      "\n",
      "---------------------\n",
      "\n",
      "\n"
     ]
    }
   ],
   "source": [
    "manager.to_do('research','sure')\n",
    "manager.to_do('study','unsure')"
   ]
  },
  {
   "cell_type": "code",
   "execution_count": null,
   "metadata": {},
   "outputs": [],
   "source": []
  }
 ],
 "metadata": {
  "kernelspec": {
   "display_name": "Python 3",
   "language": "python",
   "name": "python3"
  },
  "language_info": {
   "codemirror_mode": {
    "name": "ipython",
    "version": 3
   },
   "file_extension": ".py",
   "mimetype": "text/x-python",
   "name": "python",
   "nbconvert_exporter": "python",
   "pygments_lexer": "ipython3",
   "version": "3.7.3"
  }
 },
 "nbformat": 4,
 "nbformat_minor": 4
}
