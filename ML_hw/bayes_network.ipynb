{
 "cells": [
  {
   "cell_type": "markdown",
   "metadata": {},
   "source": [
    "# chap 7 naive bayse classifier\n",
    "- question is designed to practise coding\n",
    "    + naive bayse classifier with laplas correcting factor"
   ]
  },
  {
   "cell_type": "code",
   "execution_count": 17,
   "metadata": {},
   "outputs": [
    {
     "data": {
      "text/plain": [
       "(20, 2)"
      ]
     },
     "execution_count": 17,
     "metadata": {},
     "output_type": "execute_result"
    }
   ],
   "source": [
    "import numpy as np\n",
    "X = np.random.random((20,2))\n",
    "X.shape\n",
    "\n"
   ]
  },
  {
   "cell_type": "code",
   "execution_count": 18,
   "metadata": {},
   "outputs": [],
   "source": [
    "mut = np.array([2,6])\n",
    "y = np.eye(2)*mut"
   ]
  },
  {
   "cell_type": "code",
   "execution_count": 19,
   "metadata": {},
   "outputs": [
    {
     "name": "stdout",
     "output_type": "stream",
     "text": [
      "[[1.9814806  5.98184291]\n",
      " [0.61747189 3.94589884]\n",
      " [1.82937415 5.29831625]\n",
      " [1.06261404 2.04404486]\n",
      " [1.63714339 0.76233913]\n",
      " [1.82966033 1.08113592]\n",
      " [0.70507598 3.88642984]\n",
      " [0.5454288  3.81638899]\n",
      " [0.46144826 2.4036525 ]\n",
      " [0.28569412 1.28298782]\n",
      " [0.66206707 1.68063271]\n",
      " [1.30656644 3.50116288]\n",
      " [1.3902279  3.74124211]\n",
      " [1.95818806 5.79598845]\n",
      " [1.67146319 1.24175783]\n",
      " [1.66879706 2.92552398]\n",
      " [0.527914   0.83128581]\n",
      " [0.03020404 1.73887015]\n",
      " [0.78603866 0.1127478 ]\n",
      " [0.77953367 4.72727383]]\n",
      "[[1.9814806  5.98184291]\n",
      " [0.61747189 3.94589884]\n",
      " [1.82937415 5.29831625]\n",
      " [1.06261404 2.04404486]\n",
      " [1.63714339 0.76233913]\n",
      " [1.82966033 1.08113592]\n",
      " [0.70507598 3.88642984]\n",
      " [0.5454288  3.81638899]\n",
      " [0.46144826 2.4036525 ]\n",
      " [0.28569412 1.28298782]\n",
      " [0.66206707 1.68063271]\n",
      " [1.30656644 3.50116288]\n",
      " [1.3902279  3.74124211]\n",
      " [1.95818806 5.79598845]\n",
      " [1.67146319 1.24175783]\n",
      " [1.66879706 2.92552398]\n",
      " [0.527914   0.83128581]\n",
      " [0.03020404 1.73887015]\n",
      " [0.78603866 0.1127478 ]\n",
      " [0.77953367 4.72727383]]\n"
     ]
    }
   ],
   "source": [
    "print(mut*X)\n",
    "print(X.dot(y))"
   ]
  },
  {
   "cell_type": "code",
   "execution_count": 20,
   "metadata": {},
   "outputs": [
    {
     "data": {
      "text/plain": [
       "array([[ True,  True],\n",
       "       [ True,  True],\n",
       "       [ True,  True],\n",
       "       [ True,  True],\n",
       "       [ True,  True],\n",
       "       [ True,  True],\n",
       "       [ True,  True],\n",
       "       [ True,  True],\n",
       "       [ True,  True],\n",
       "       [ True,  True],\n",
       "       [ True,  True],\n",
       "       [ True,  True],\n",
       "       [ True,  True],\n",
       "       [ True,  True],\n",
       "       [ True,  True],\n",
       "       [ True,  True],\n",
       "       [ True,  True],\n",
       "       [ True,  True],\n",
       "       [ True,  True],\n",
       "       [ True,  True]])"
      ]
     },
     "execution_count": 20,
     "metadata": {},
     "output_type": "execute_result"
    }
   ],
   "source": [
    "np.equal(mut*X,X.dot(y))"
   ]
  },
  {
   "cell_type": "markdown",
   "metadata": {},
   "source": [
    "**generate data**"
   ]
  },
  {
   "cell_type": "code",
   "execution_count": 41,
   "metadata": {},
   "outputs": [],
   "source": [
    "data = pd.DataFrame(np.random.randint(3,size = (2,10)))\n",
    "def dic4map(x):\n",
    "    dict1 = dict(zip(range(10),['smooth','rough','semi-smooth']))\n",
    "    return pd.Series.apply(x,lambda x:dict1[x])"
   ]
  },
  {
   "cell_type": "code",
   "execution_count": 42,
   "metadata": {},
   "outputs": [],
   "source": [
    "data.iloc[0,:] = dic4map(data.iloc[0,:]) "
   ]
  },
  {
   "cell_type": "code",
   "execution_count": 43,
   "metadata": {},
   "outputs": [
    {
     "data": {
      "text/html": [
       "<div>\n",
       "<style scoped>\n",
       "    .dataframe tbody tr th:only-of-type {\n",
       "        vertical-align: middle;\n",
       "    }\n",
       "\n",
       "    .dataframe tbody tr th {\n",
       "        vertical-align: top;\n",
       "    }\n",
       "\n",
       "    .dataframe thead th {\n",
       "        text-align: right;\n",
       "    }\n",
       "</style>\n",
       "<table border=\"1\" class=\"dataframe\">\n",
       "  <thead>\n",
       "    <tr style=\"text-align: right;\">\n",
       "      <th></th>\n",
       "      <th>0</th>\n",
       "      <th>1</th>\n",
       "      <th>2</th>\n",
       "      <th>3</th>\n",
       "      <th>4</th>\n",
       "      <th>5</th>\n",
       "      <th>6</th>\n",
       "      <th>7</th>\n",
       "      <th>8</th>\n",
       "      <th>9</th>\n",
       "    </tr>\n",
       "  </thead>\n",
       "  <tbody>\n",
       "    <tr>\n",
       "      <th>0</th>\n",
       "      <td>semi-smooth</td>\n",
       "      <td>rough</td>\n",
       "      <td>rough</td>\n",
       "      <td>rough</td>\n",
       "      <td>smooth</td>\n",
       "      <td>smooth</td>\n",
       "      <td>rough</td>\n",
       "      <td>rough</td>\n",
       "      <td>smooth</td>\n",
       "      <td>smooth</td>\n",
       "    </tr>\n",
       "    <tr>\n",
       "      <th>1</th>\n",
       "      <td>1</td>\n",
       "      <td>2</td>\n",
       "      <td>0</td>\n",
       "      <td>0</td>\n",
       "      <td>1</td>\n",
       "      <td>1</td>\n",
       "      <td>0</td>\n",
       "      <td>1</td>\n",
       "      <td>0</td>\n",
       "      <td>2</td>\n",
       "    </tr>\n",
       "  </tbody>\n",
       "</table>\n",
       "</div>"
      ],
      "text/plain": [
       "             0      1      2      3       4       5      6      7       8  \\\n",
       "0  semi-smooth  rough  rough  rough  smooth  smooth  rough  rough  smooth   \n",
       "1            1      2      0      0       1       1      0      1       0   \n",
       "\n",
       "        9  \n",
       "0  smooth  \n",
       "1       2  "
      ]
     },
     "execution_count": 43,
     "metadata": {},
     "output_type": "execute_result"
    }
   ],
   "source": [
    "data"
   ]
  },
  {
   "cell_type": "markdown",
   "metadata": {},
   "source": [
    "1 ROUGE-1 Average_R: 0.51416 (95%-conf.int. 0.50883 - 0.51942)\n",
    "\n",
    "1 ROUGE-1 Average_P: 0.37139 (95%-conf.int. 0.36689 - 0.37612)\n",
    "\n",
    "1 ROUGE-1 Average_F: 0.41681 (95%-conf.int. 0.41263 - 0.42101)\n",
    "\n",
    "![ROUGE-l](https://img-blog.csdn.net/20171202143111808?watermark/2/text/aHR0cDovL2Jsb2cuY3Nkbi5uZXQvcXFfMjUyMjIzNjE=/font/5a6L5L2T/fontsize/400/fill/I0JBQkFCMA==/dissolve/70/gravity/SouthEast)"
   ]
  },
  {
   "cell_type": "code",
   "execution_count": 46,
   "metadata": {},
   "outputs": [
    {
     "data": {
      "text/plain": [
       "0.8036919670751749"
      ]
     },
     "execution_count": 46,
     "metadata": {},
     "output_type": "execute_result"
    }
   ],
   "source": [
    "import numpy as np\n",
    "P = 0.37139 \n",
    "R = 0.51416\n",
    "F = 0.41681\n",
    "def cal(P,R,F):\n",
    "    BETA_SQUARE = (P*R - F*R)/(F*P - P*R)\n",
    "    return np.sqrt(BETA_SQUARE)\n",
    "cal(P,R,F)"
   ]
  },
  {
   "cell_type": "markdown",
   "metadata": {},
   "source": [
    "1 ROUGE-2 Average_R: 0.23153 (95%-conf.int. 0.22641 - 0.23660)\n",
    "\n",
    "1 ROUGE-2 Average_P: 0.16708 (95%-conf.int. 0.16272 - 0.17134)\n",
    "\n",
    "1 ROUGE-2 Average_F: 0.18727 (95%-conf.int. 0.18299 - 0.19157)\n",
    "\n"
   ]
  },
  {
   "cell_type": "code",
   "execution_count": 47,
   "metadata": {},
   "outputs": [
    {
     "data": {
      "text/plain": [
       "0.7950672365859885"
      ]
     },
     "execution_count": 47,
     "metadata": {},
     "output_type": "execute_result"
    }
   ],
   "source": [
    "cal(0.16708,0.23153,0.18727)"
   ]
  },
  {
   "cell_type": "code",
   "execution_count": null,
   "metadata": {},
   "outputs": [],
   "source": []
  }
 ],
 "metadata": {
  "kernelspec": {
   "display_name": "Python 3",
   "language": "python",
   "name": "python3"
  },
  "language_info": {
   "codemirror_mode": {
    "name": "ipython",
    "version": 3
   },
   "file_extension": ".py",
   "mimetype": "text/x-python",
   "name": "python",
   "nbconvert_exporter": "python",
   "pygments_lexer": "ipython3",
   "version": "3.7.3"
  }
 },
 "nbformat": 4,
 "nbformat_minor": 4
}
