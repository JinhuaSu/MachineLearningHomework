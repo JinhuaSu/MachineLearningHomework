{
 "cells": [
  {
   "cell_type": "markdown",
   "metadata": {},
   "source": [
    "# midterm coding\n",
    "\n",
    "**info**\n",
    "\n",
    "Sujinhua 2017201620\n",
    "\n",
    "# auxfuc"
   ]
  },
  {
   "cell_type": "code",
   "execution_count": 118,
   "metadata": {},
   "outputs": [],
   "source": [
    "import time\n",
    "import random\n",
    "import matplotlib.pyplot as plt\n",
    "import numpy as np\n",
    "def timeit(func):\n",
    "    def wrapper(*args):\n",
    "        start = time.time()\n",
    "        res = func(*args)\n",
    "        end = time.time()\n",
    "        return res,end-start\n",
    "    return wrapper\n",
    "def draw_time_complexity(wrapped_func,baseline,start,end,step):\n",
    "    n_list,base_t,t_list = [],[],[]\n",
    "    for i in range(start,end,step):\n",
    "        n_list.append(i)\n",
    "        base_t.append(baseline(i))\n",
    "        t_list.append(wrapped_func(i)[1])\n",
    "    plt.plot(n_list, base_t, color=\"red\", label=\"baseline\")\n",
    "    plt.plot(n_list, t_list, color=\"blue\", label=\"my solution\")\n",
    "    plt.xlabel(\"n\")\n",
    "    plt.ylabel(\"Time(ms)\")\n",
    "    plt.legend()"
   ]
  },
  {
   "cell_type": "markdown",
   "metadata": {},
   "source": [
    "# Question 3\n",
    "\n",
    "**brief anlysis**\n",
    "\n",
    "It is a task to calculate sum of all continuous subsuquences of an array A and save it in a matrix B. The naive way ignores the relation of the matrix elements and use $\\Theta(n)$ to calculate matrix element each time. So totally it will take $\\Theta(n^3)$ basic operation. I find the relation of matrix elements shown in the following and use this to save calculating time.\n",
    "\n",
    "$$B[i,j] = B[i+1,j]-A[i]=B[i,j+1]+A[j] ,where i >= j$$\n",
    "\n",
    "Using this equation, we can get first column by n times multiplication operation, then we use fist column minus A[0] to obtain the second column. Consider duplicate the symmetry elements in the matrix, We can only use total n^2 operations to get the final result.\n"
   ]
  },
  {
   "cell_type": "code",
   "execution_count": 105,
   "metadata": {},
   "outputs": [
    {
     "name": "stdout",
     "output_type": "stream",
     "text": [
      "cost time: 2.5987625122070312e-05\n",
      "[0.8251909552003733, 3.9477158730078363, 4.141808125559678, 0.5154978937924359, 6.378069865081956]\n"
     ]
    },
    {
     "data": {
      "text/plain": [
       "[[0.8251909552003733,\n",
       "  4.772906828208209,\n",
       "  8.914714953767888,\n",
       "  9.430212847560323,\n",
       "  15.80828271264228],\n",
       " [4.772906828208209,\n",
       "  3.9477158730078363,\n",
       "  8.089523998567515,\n",
       "  8.60502189235995,\n",
       "  14.983091757441906],\n",
       " [8.914714953767888,\n",
       "  8.089523998567515,\n",
       "  4.141808125559678,\n",
       "  4.657306019352114,\n",
       "  11.035375884434071],\n",
       " [9.430212847560323,\n",
       "  8.60502189235995,\n",
       "  4.657306019352114,\n",
       "  0.5154978937924359,\n",
       "  6.893567758874393],\n",
       " [15.80828271264228,\n",
       "  14.983091757441906,\n",
       "  11.035375884434071,\n",
       "  6.893567758874393,\n",
       "  6.378069865081956]]"
      ]
     },
     "execution_count": 105,
     "metadata": {},
     "output_type": "execute_result"
    }
   ],
   "source": [
    "@timeit\n",
    "def question3(n):\n",
    "    a = [random.uniform(0,10) for i in range(n)]\n",
    "    B = [[0]*n for i in range(n)]\n",
    "    for i in range(10):\n",
    "        for j in range(i,n):\n",
    "            if i == j:\n",
    "                B[j][i] = a[j] \n",
    "            else:\n",
    "                if i == 0:\n",
    "                    B[j][i] = B[j-1][i] + a[j]\n",
    "                    B[i][j] = B[j][i]\n",
    "                else:\n",
    "                    B[j][i] = B[j][i-1] - a[i-1]\n",
    "                    B[i][j] = B[j][i]\n",
    "    return (a,B)\n",
    "res = question3(5)\n",
    "print('cost time:',res[1])\n",
    "print(res[0][0])\n",
    "res[0][1]"
   ]
  },
  {
   "cell_type": "code",
   "execution_count": 113,
   "metadata": {},
   "outputs": [
    {
     "data": {
      "image/png": "[encoded data removed]",
      "text/plain": [
       "<Figure size 432x288 with 1 Axes>"
      ]
     },
     "metadata": {
      "needs_background": "light"
     },
     "output_type": "display_data"
    }
   ],
   "source": [
    "draw_time_complexity(question3,lambda x:(x*1e-4)**2,100,2000,10)"
   ]
  },
  {
   "cell_type": "markdown",
   "metadata": {},
   "source": [
    "# Question 4\n",
    "\n",
    "**brief analysis**\n",
    "\n",
    "**divide and conquer**\n",
    "\n",
    "The key point of this question is to how to define the sub-problem. If using thought of divide and conquer, it can be easily considered that split the sequence A into several pieces and find the best jaundiced subsequence of each piece. It can be proved that if two known subsequence can be combined based on some rules. Let;s define the best jaundiced subsequence, left best jaundiced subsequence has a limit that there will be no left elements got rid. Suppose that the left and right number of best sequence of A(i,j) are k_left and k_right, where i <= k_left <= k_right <= j. Note the reward of best sequence of A(i,j) is R(i,j). The reward of right best sequence of A(i,j) is max(max(R(i,j)+sum(A(k_right,j)),0) , max_k{sum(A(k,j))}). And we could use it to judge the the new best subsequence of two known sequence A(i,j) and A(j+1,k). The judge rule is in the following.\n",
    "$$max(R(i,j),R(j+1,k),R_{right}(i,j)+R_{left}(j+1,k))$$\n",
    "\n"
   ]
  },
  {
   "cell_type": "code",
   "execution_count": 120,
   "metadata": {},
   "outputs": [
    {
     "name": "stdout",
     "output_type": "stream",
     "text": [
      "time_cost: 5.9604644775390625e-05\n",
      " total reward: 62.85583341417278 \n",
      " best subsequence: (2,9)\n"
     ]
    },
    {
     "data": {
      "text/plain": [
       "[-18.94554395593183,\n",
       " -8.271472919228273,\n",
       " 11.09357527488907,\n",
       " 10.373924269425952,\n",
       " 16.013043547076364,\n",
       " -12.548194638778952,\n",
       " -3.1654035703505983,\n",
       " 6.619117836106739,\n",
       " 5.114286905049205,\n",
       " 13.641885581625452]"
      ]
     },
     "execution_count": 120,
     "metadata": {},
     "output_type": "execute_result"
    }
   ],
   "source": [
    "class sequence(object):\n",
    "    def __init__(self,number):\n",
    "        self.left,self.right = number,number\n",
    "        self.best_left = number\n",
    "        self.best_right = number \n",
    "        self.reward = a[number]\n",
    "    def combine_right(self,right_sequence):\n",
    "        r1,k1 = self.cal_jaundiced('left')\n",
    "        r2,k2 = right_sequence.cal_jaundiced('right')\n",
    "        combine_reward =  r1 + r2\n",
    "        self.right = right_sequence.right\n",
    "        if combine_reward > self.reward and combine_reward > right_sequence.reward:\n",
    "            self.reward = combine_reward\n",
    "            self.best_right = k2 if k2 != -1 else right_sequence.best_right\n",
    "            if k1 != -1:\n",
    "                self.best_left = k1\n",
    "        elif r1 <= r2:\n",
    "            return right_sequence\n",
    "        return self\n",
    "    def cal_jaundiced(self,direction):\n",
    "        k,max_ = -1,0\n",
    "        if direction == 'right':\n",
    "            if self.right == self.best_right or self.best_right == -1:\n",
    "                return self.reward,k\n",
    "            else:\n",
    "                sum_ = 0\n",
    "                for i in range(self.right,self.best_right,-1):\n",
    "                    sum_  += a[i]\n",
    "                    if sum_ > max_:\n",
    "                        max_,k = sum_,i\n",
    "        else:\n",
    "            if self.left == self.best_left or self.best_left == -1:\n",
    "                return self.reward,k\n",
    "            else:\n",
    "                sum_ = 0\n",
    "                for i in range(self.left,self.best_left,1):\n",
    "                    sum_  += a[i]\n",
    "                    if sum_ > max_:\n",
    "                        max_,k = sum_,i\n",
    "        if max_ > self.reward + sum_:\n",
    "            return max_,k\n",
    "        else:\n",
    "            return self.reward+sum_,-1\n",
    "        \n",
    "@timeit\n",
    "def question4_1(n):\n",
    "    global a\n",
    "    a = [random.uniform(-20,20) for i in range(n)]\n",
    "    queue = [sequence(i) for i in range(len(a))]\n",
    "    while len(queue) > 1:\n",
    "        left,right = queue.pop(0),queue.pop(0)\n",
    "        if left.right > right.left:\n",
    "            queue.append(left)\n",
    "            left, right = right, queue.pop(0)\n",
    "        queue.append(left.combine_right(right))\n",
    "    res = queue.pop()\n",
    "    return res\n",
    "res = question4_1(10)\n",
    "print('time_cost: %s\\n' %res[1],\\\n",
    "      'total reward: %s \\n' % res[0].reward,\\\n",
    "      'best subsequence: (%s,%s)' % (res[0].best_left,res[0].best_right) )\n",
    "a"
   ]
  },
  {
   "cell_type": "code",
   "execution_count": 127,
   "metadata": {},
   "outputs": [
    {
     "data": {
      "image/png": "[encoded data removed]",
      "text/plain": [
       "<Figure size 432x288 with 1 Axes>"
      ]
     },
     "metadata": {
      "needs_background": "light"
     },
     "output_type": "display_data"
    }
   ],
   "source": [
    "draw_time_complexity(question4_1,lambda x:x*0.5e-6 * np.log(x),1000,10000,100)"
   ]
  },
  {
   "cell_type": "markdown",
   "metadata": {},
   "source": [
    "**Dynamic programming**\n",
    "\n",
    "In fact, divide and conquer method seems weak in this context since middle value in the sequence has less influence for the final result. So the problem is similar like elimination game or gluttonous game. When two number nearby and have the same sign, both positive or negative, just combine them. When meeting different sign triple like (positive1, negative, positive2) or (negative1,positive,negative2). If abs(middle) < min{abs(left),abs(right)}, combine three items. If min{abs(left),abs(right)} < abs(middle) < max{abs(left),abs(right)}, combine middle and min_one. In the end, above operation can not be used anymore, then select the biggest possitive one in the list.\n"
   ]
  },
  {
   "cell_type": "code",
   "execution_count": 138,
   "metadata": {},
   "outputs": [
    {
     "name": "stdout",
     "output_type": "stream",
     "text": [
      "time cost: 4.0531158447265625e-05 \n",
      " a: [-3.330346487283631, -7.894926817261268, 14.416424565265594, -1.4354883489428047, -15.16644067402936, 1.298466922174132, -1.9066574278396509, 10.95486354265358, 10.547961401258217, -9.941057862580504] \n",
      " stack: [-11.2252733045449, 14.416424565265594, -17.210119528637684, 21.502824943911797, -9.941057862580504] \n",
      " pos: [[0, 1], [2, 2], [3, 6], [7, 8], [9, 9]] \n",
      "\n"
     ]
    }
   ],
   "source": [
    "@timeit\n",
    "def question4_2(n):\n",
    "    a = [random.uniform(-20,20) for i in range(n)]\n",
    "    stack = [a[0]]\n",
    "    pos = [[0,0]]\n",
    "    for i in range(1,len(a)):\n",
    "        new = a[i]\n",
    "        if len(stack)>0:\n",
    "            pop = stack.pop()\n",
    "        else:\n",
    "            stack.append(new)\n",
    "            pos.append([i,i])\n",
    "            continue\n",
    "        if new * pop >= 0:\n",
    "            stack.append(pop+new)\n",
    "            pos[-1][1] = i\n",
    "        elif len(stack) > 0:\n",
    "            pop2 = stack.pop()\n",
    "            if pop2 * new >= 0:\n",
    "                if abs(pop2) >= abs(pop):\n",
    "                    if abs(pop) <= abs(new):\n",
    "                        stack.append(pop2  + pop + new)\n",
    "                        pos.pop()\n",
    "                        pos[-1][1] = i\n",
    "                    else:\n",
    "                        stack.extend([pop2+pop,new])\n",
    "                        pos[-2][1] = pos[-2][1]\n",
    "                        pos[-1] = [i,i]\n",
    "                else:\n",
    "                    stack.extend([pop2,pop,new])\n",
    "                    pos.append([i,i])\n",
    "            else:\n",
    "                stack.extend([pop2+pop,new])\n",
    "                pos[-2][1] = pos[-2][1]\n",
    "                pos[-1] = [i,i]\n",
    "        else:\n",
    "            stack.extend([pop,new])\n",
    "            pos.append([i,i])\n",
    "    return (a,stack,pos)\n",
    "res = question4_2(10)\n",
    "print('time cost: %s \\n'%res[1],\\\n",
    "     'a: %s \\n'%res[0][0],\n",
    "     'stack: %s \\n'%res[0][1],\n",
    "     'pos: %s \\n'%res[0][2])"
   ]
  },
  {
   "cell_type": "markdown",
   "metadata": {},
   "source": [
    "**explain how to deal with the result**\n",
    "\n",
    "Indeed we get the stack containing the best sequence total reward we want. So we just need $\\Theta(n)$ time to find the maxiumn element and corresbonding pos element. In above example, the best subsequence is 7-8."
   ]
  },
  {
   "cell_type": "code",
   "execution_count": 142,
   "metadata": {},
   "outputs": [
    {
     "data": {
      "image/png": "[encoded data removed]",
      "text/plain": [
       "<Figure size 432x288 with 1 Axes>"
      ]
     },
     "metadata": {
      "needs_background": "light"
     },
     "output_type": "display_data"
    }
   ],
   "source": [
    "draw_time_complexity(question4_2,lambda x:x*1e-6,1000,20000,100)"
   ]
  },
  {
   "cell_type": "code",
   "execution_count": 143,
   "metadata": {},
   "outputs": [
    {
     "data": {
      "image/png": "[encoded data removed]",
      "text/plain": [
       "<Figure size 432x288 with 1 Axes>"
      ]
     },
     "metadata": {
      "needs_background": "light"
     },
     "output_type": "display_data"
    }
   ],
   "source": [
    "draw_time_complexity(question4_1,lambda x:x*1e-6,1000,20000,100)"
   ]
  },
  {
   "cell_type": "markdown",
   "metadata": {},
   "source": [
    "**in contrast**\n",
    "\n",
    "For sure, DP is log(n) faster than divide and conquer in this question."
   ]
  },
  {
   "cell_type": "markdown",
   "metadata": {},
   "source": [
    "# Question 5 \n",
    "\n",
    "**brief analysis**\n",
    "\n",
    "Indeed this question is extremely 2-dimension dynamic programming. There is an explicit recusive formulation shown in the following.\n",
    "\n",
    "$$C(i,j) = max(C(i-1,j),C(i,j-1)) + A(i,j)$$"
   ]
  },
  {
   "cell_type": "code",
   "execution_count": 62,
   "metadata": {},
   "outputs": [],
   "source": [
    "A = [[0,0,0,0,1,0],\n",
    "     [0,1,0,1,0,0],\n",
    "     [0,0,0,1,0,1],\n",
    "     [0,0,1,0,0,1],\n",
    "     [1,0,0,0,1,0]]"
   ]
  },
  {
   "cell_type": "code",
   "execution_count": 69,
   "metadata": {},
   "outputs": [],
   "source": [
    "import copy\n",
    "C = copy.deepcopy(A)"
   ]
  },
  {
   "cell_type": "code",
   "execution_count": 75,
   "metadata": {},
   "outputs": [
    {
     "data": {
      "text/plain": [
       "[5,\n",
       " [(0, 0),\n",
       "  (1, 0),\n",
       "  (1, 1),\n",
       "  (1, 2),\n",
       "  (1, 3),\n",
       "  (2, 3),\n",
       "  (2, 4),\n",
       "  (2, 5),\n",
       "  (3, 5),\n",
       "  (4, 5)]]"
      ]
     },
     "execution_count": 75,
     "metadata": {},
     "output_type": "execute_result"
    }
   ],
   "source": [
    "for i in range(len(A)):\n",
    "    for j in range(len(A[0])):\n",
    "        if i == 0 or j == 0:\n",
    "            if i == j:\n",
    "                C[i][j] = [A[i][j],[(i,j)]]\n",
    "            elif i == 0:\n",
    "                C[i][j] = [C[i][j-1][0] + A[i][j],C[i][j-1][1] + [(i,j)]]\n",
    "            else:\n",
    "                C[i][j] = [C[i-1][j][0] + A[i][j],C[i-1][j][1] + [(i,j)]]\n",
    "        else:\n",
    "            if C[i][j-1][0] >= C[i-1][j][0]:\n",
    "                C[i][j] = [C[i][j-1][0] + A[i][j],C[i][j-1][1] + [(i,j)]]\n",
    "            else: \n",
    "                C[i][j] = [C[i-1][j][0] + A[i][j],C[i-1][j][1] + [(i,j)]]\n",
    "C[len(A)-1][len(A[0])-1]"
   ]
  },
  {
   "cell_type": "code",
   "execution_count": null,
   "metadata": {},
   "outputs": [],
   "source": []
  }
 ],
 "metadata": {
  "kernelspec": {
   "display_name": "Python 3",
   "language": "python",
   "name": "python3"
  },
  "language_info": {
   "codemirror_mode": {
    "name": "ipython",
    "version": 3
   },
   "file_extension": ".py",
   "mimetype": "text/x-python",
   "name": "python",
   "nbconvert_exporter": "python",
   "pygments_lexer": "ipython3",
   "version": "3.7.3"
  }
 },
 "nbformat": 4,
 "nbformat_minor": 4
}
